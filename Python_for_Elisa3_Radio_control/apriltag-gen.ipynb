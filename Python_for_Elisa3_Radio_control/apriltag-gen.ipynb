{
 "cells": [
  {
   "attachments": {},
   "cell_type": "markdown",
   "id": "5aea3233-305a-4034-b6f2-d37541a88bdd",
   "metadata": {},
   "source": [
    "![](../header.jpg)\n",
    "# Generating Tags"
   ]
  },
  {
   "cell_type": "code",
   "execution_count": 1,
   "id": "fc3486c7-965b-4f37-8d1b-7c613bc81904",
   "metadata": {},
   "outputs": [],
   "source": [
    "# reload library\n",
    "%load_ext autoreload\n",
    "%autoreload 2"
   ]
  },
  {
   "cell_type": "code",
   "execution_count": 10,
   "id": "a2e50727-fcb1-4d2b-bd1b-32a40302effc",
   "metadata": {},
   "outputs": [],
   "source": [
    "import numpy as np\n",
    "from matplotlib import pyplot as plt\n",
    "from moms_apriltag import TagGenerator2, TagGenerator3 \n",
    "import cv2"
   ]
  },
  {
   "cell_type": "markdown",
   "id": "a4d14420",
   "metadata": {},
   "source": [
    "# Multiple tags at once"
   ]
  },
  {
   "cell_type": "code",
   "execution_count": 15,
   "id": "bc660164",
   "metadata": {},
   "outputs": [
    {
     "name": "stdout",
     "output_type": "stream",
     "text": [
      "41\n",
      "Generated and saved 41 tags in the 'qr_tags' folder.\n"
     ]
    }
   ],
   "source": [
    "import os\n",
    "\n",
    "# Define the DPI and calculate the pixel dimensions\n",
    "dpi = 300\n",
    "inch_size = 2.7\n",
    "pixel_size = int(dpi * inch_size)\n",
    "\n",
    "# Assuming you have a list of identifiers for which you want to generate tags\n",
    "identifiers = [4051, 4031, 4124,3991, 4123,4035,4105,4098,4111,4128,4471,4054,4114,4068,4086,4095,4090,4001,4472,4028,4031,4034,4005\n",
    "               ,3828,3846,3868,3887,3918,3981\n",
    "               ,3904,4010,4019,4020,4047,4049\n",
    "               ,3823,3829,3869,3874,3901,3926]  # Example identifiers, replace with your actual list\n",
    "print(len(identifiers))\n",
    "# Create the qr_tags directory if it doesn't exist\n",
    "os.makedirs('qr_tags', exist_ok=True)\n",
    "\n",
    "# Initialize your TagGenerator\n",
    "tg = TagGenerator3(\"tagCustom48h12\")\n",
    "\n",
    "for identifier in identifiers:\n",
    "    # Generate the tag image\n",
    "    im = tg.generate(identifier)\n",
    "    \n",
    "    # Resize the image to the desired output size (if necessary)\n",
    "    # This step depends on whether your tag generator already outputs at the desired resolution.\n",
    "    # If resizing is needed, use appropriate image resizing methods from libraries such as PIL or OpenCV.\n",
    "    \n",
    "    # Save the image\n",
    "    file_path = f'qr_tags/tag_{identifier}.png'\n",
    "    plt.imsave(file_path, im, cmap=\"gray\", dpi=dpi)\n",
    "\n",
    "print(f\"Generated and saved {len(identifiers)} tags in the 'qr_tags' folder.\")\n"
   ]
  },
  {
   "attachments": {},
   "cell_type": "markdown",
   "id": "652c2552-79f3-48c9-b5d5-ce11bc5b15f1",
   "metadata": {},
   "source": [
    "## Gen 3 Tags"
   ]
  },
  {
   "cell_type": "code",
   "execution_count": 6,
   "id": "3aedd706-5f6a-4642-a7f5-74f06fa01d04",
   "metadata": {},
   "outputs": [
    {
     "name": "stdout",
     "output_type": "stream",
     "text": [
      "Max tags: 42211\n"
     ]
    },
    {
     "data": {
      "image/png": "[encoded data removed]",
      "text/plain": [
       "<Figure size 640x480 with 1 Axes>"
      ]
     },
     "metadata": {},
     "output_type": "display_data"
    }
   ],
   "source": [
    "tg = TagGenerator3(\"tagCustom48h12\")\n",
    "im = tg.generate(3948)\n",
    "print(f\"Max tags: {len(tg.codes)}\")\n",
    "plt.imshow(im, cmap=\"gray\")\n",
    "plt.title(f\"{im.shape}  {tg.template.numBits}\")\n",
    "plt.axis(\"off\");"
   ]
  },
  {
   "cell_type": "code",
   "execution_count": 21,
   "id": "98c7b91f",
   "metadata": {},
   "outputs": [
    {
     "data": {
      "text/plain": [
       "True"
      ]
     },
     "execution_count": 21,
     "metadata": {},
     "output_type": "execute_result"
    }
   ],
   "source": [
    "png = tg.toRGBA(im)\n",
    "cv2.imwrite(\"circletag.png\", png)"
   ]
  },
  {
   "cell_type": "code",
   "execution_count": 25,
   "id": "4b557335",
   "metadata": {},
   "outputs": [
    {
     "data": {
      "text/plain": [
       "-1"
      ]
     },
     "execution_count": 25,
     "metadata": {},
     "output_type": "execute_result"
    }
   ],
   "source": [
    "img =cv2.imread(\"circletag.png\")\n",
    "cv2.imshow(\"ims\",img)\n",
    "cv2.waitKey(0)"
   ]
  },
  {
   "cell_type": "code",
   "execution_count": 12,
   "id": "cd2be36f-27da-4f80-ae70-2988cbdc80b3",
   "metadata": {},
   "outputs": [
    {
     "name": "stdout",
     "output_type": "stream",
     "text": [
      "Max tags: 65535\n"
     ]
    },
    {
     "data": {
      "image/png": "[encoded data removed]",
      "text/plain": [
       "<Figure size 640x480 with 1 Axes>"
      ]
     },
     "metadata": {},
     "output_type": "display_data"
    }
   ],
   "source": [
    "tg = TagGenerator3(\"tagCircle49h12\")\n",
    "im = tg.generate(0)\n",
    "print(f\"Max tags: {len(tg.codes)}\")\n",
    "plt.imshow(im, cmap=\"gray\");\n",
    "plt.title(f\"{im.shape}  {tg.template.numBits}\")\n",
    "plt.axis(\"off\");"
   ]
  },
  {
   "cell_type": "code",
   "execution_count": 13,
   "id": "c591bcb4-d4f1-4ffa-94c5-69eb0ecb2cb4",
   "metadata": {},
   "outputs": [
    {
     "data": {
      "text/plain": [
       "True"
      ]
     },
     "execution_count": 13,
     "metadata": {},
     "output_type": "execute_result"
    }
   ],
   "source": [
    "png = tg.toRGBA(im)\n",
    "cv2.imwrite(\"circletag.png\", png)"
   ]
  },
  {
   "cell_type": "code",
   "execution_count": 14,
   "id": "4b277d60-dba8-41a9-9e9e-3d80358d5dce",
   "metadata": {},
   "outputs": [
    {
     "name": "stdout",
     "output_type": "stream",
     "text": [
      "Max tags: 38\n"
     ]
    },
    {
     "data": {
      "image/png": "[encoded data removed]",
      "text/plain": [
       "<Figure size 640x480 with 1 Axes>"
      ]
     },
     "metadata": {},
     "output_type": "display_data"
    }
   ],
   "source": [
    "tg = TagGenerator3(\"tagCircle21h7\")\n",
    "im = tg.generate(0)\n",
    "print(f\"Max tags: {len(tg.codes)}\")\n",
    "plt.imshow(im, cmap=\"gray\");\n",
    "plt.title(im.shape)\n",
    "plt.axis(\"off\");"
   ]
  },
  {
   "cell_type": "code",
   "execution_count": 15,
   "id": "36c325a3-1220-4121-b3c3-fe0c2669f321",
   "metadata": {},
   "outputs": [
    {
     "name": "stdout",
     "output_type": "stream",
     "text": [
      "Max tags: 48714\n"
     ]
    },
    {
     "data": {
      "image/png": "[encoded data removed]",
      "text/plain": [
       "<Figure size 640x480 with 1 Axes>"
      ]
     },
     "metadata": {},
     "output_type": "display_data"
    }
   ],
   "source": [
    "tg = TagGenerator3(\"tagStandard52h13\")\n",
    "im = tg.generate(129)\n",
    "print(f\"Max tags: {len(tg.codes)}\")\n",
    "plt.imshow(im, cmap=\"gray\");\n",
    "plt.title(f\"{im.shape}  {tg.template.numBits}\")\n",
    "plt.axis(\"off\");"
   ]
  },
  {
   "cell_type": "code",
   "execution_count": 16,
   "id": "fabcc46e-0442-4daf-b0c3-17df9ae556ed",
   "metadata": {},
   "outputs": [
    {
     "name": "stdout",
     "output_type": "stream",
     "text": [
      "Max tags: 2115\n"
     ]
    },
    {
     "data": {
      "image/png": "[encoded data removed]",
      "text/plain": [
       "<Figure size 640x480 with 1 Axes>"
      ]
     },
     "metadata": {},
     "output_type": "display_data"
    }
   ],
   "source": [
    "tg = TagGenerator3(\"tagStandard41h12\")\n",
    "im = tg.generate(137)\n",
    "print(f\"Max tags: {len(tg.codes)}\")\n",
    "plt.imshow(im, cmap=\"gray\");\n",
    "plt.title(f\"{im.shape}  {tg.template.numBits}\")\n",
    "plt.axis(\"off\");"
   ]
  },
  {
   "cell_type": "code",
   "execution_count": 11,
   "id": "c3e5a265-1f40-40cc-8331-d6a91e31d64f",
   "metadata": {},
   "outputs": [
    {
     "ename": "NameError",
     "evalue": "name 'mosaic' is not defined",
     "output_type": "error",
     "traceback": [
      "\u001b[0;31m---------------------------------------------------------------------------\u001b[0m",
      "\u001b[0;31mNameError\u001b[0m                                 Traceback (most recent call last)",
      "Cell \u001b[0;32mIn[11], line 8\u001b[0m\n\u001b[1;32m      5\u001b[0m     im \u001b[38;5;241m=\u001b[39m tg\u001b[38;5;241m.\u001b[39mgenerate(tag_id, \u001b[38;5;241m20\u001b[39m)\n\u001b[1;32m      6\u001b[0m     imgs\u001b[38;5;241m.\u001b[39mappend(im)\n\u001b[0;32m----> 8\u001b[0m im \u001b[38;5;241m=\u001b[39m \u001b[43mmosaic\u001b[49m(imgs)\n\u001b[1;32m      9\u001b[0m plt\u001b[38;5;241m.\u001b[39mimshow(im, cmap\u001b[38;5;241m=\u001b[39m\u001b[38;5;124m\"\u001b[39m\u001b[38;5;124mgray\u001b[39m\u001b[38;5;124m\"\u001b[39m)\n\u001b[1;32m     10\u001b[0m plt\u001b[38;5;241m.\u001b[39maxis(\u001b[38;5;124m\"\u001b[39m\u001b[38;5;124moff\u001b[39m\u001b[38;5;124m\"\u001b[39m);\n",
      "\u001b[0;31mNameError\u001b[0m: name 'mosaic' is not defined"
     ]
    }
   ],
   "source": [
    "imgs = []\n",
    "tg = TagGenerator3(\"tagStandard41h12\")\n",
    "\n",
    "for tag_id in [0,1,2,3,4,5,100,113,137,141,146,283]:\n",
    "    im = tg.generate(tag_id, 20)\n",
    "    imgs.append(im)\n",
    "    \n",
    "im = mosaic(imgs)\n",
    "plt.imshow(im, cmap=\"gray\")\n",
    "plt.axis(\"off\");"
   ]
  },
  {
   "cell_type": "code",
   "execution_count": null,
   "id": "6882351b-c7c8-4240-b0ae-3601e79b0252",
   "metadata": {},
   "outputs": [],
   "source": []
  },
  {
   "attachments": {},
   "cell_type": "markdown",
   "id": "dfcc81c4-0b0e-48fd-a157-b0d38b895bf6",
   "metadata": {},
   "source": [
    "## Gen 2 Tags"
   ]
  },
  {
   "cell_type": "code",
   "execution_count": 18,
   "id": "1f3ca6ef-9077-4d6c-930f-d7a55de6400b",
   "metadata": {},
   "outputs": [],
   "source": [
    "from moms_apriltag.tags import tag36h10,tag36h11,tag16h5,tag25h9"
   ]
  },
  {
   "attachments": {},
   "cell_type": "markdown",
   "id": "1bcf7140-4c43-4391-98bc-40eb893ffa65",
   "metadata": {},
   "source": [
    "print(\"Max tags:\")\n",
    "print(\"tag16h5\", len(tag16h5.codes))\n",
    "print(\"tag25h9\", len(tag25h9.codes))\n",
    "print(\"tag36h10\", len(tag36h10.codes))\n",
    "print(\"tag36h11\", len(tag36h11.codes))"
   ]
  },
  {
   "cell_type": "code",
   "execution_count": null,
   "id": "2494d582-e669-449b-9884-aafeee9d14f2",
   "metadata": {},
   "outputs": [],
   "source": []
  }
 ],
 "metadata": {
  "kernelspec": {
   "display_name": "Python 3 (ipykernel)",
   "language": "python",
   "name": "python3"
  },
  "language_info": {
   "codemirror_mode": {
    "name": "ipython",
    "version": 3
   },
   "file_extension": ".py",
   "mimetype": "text/x-python",
   "name": "python",
   "nbconvert_exporter": "python",
   "pygments_lexer": "ipython3",
   "version": "3.8.10"
  }
 },
 "nbformat": 4,
 "nbformat_minor": 5
}
